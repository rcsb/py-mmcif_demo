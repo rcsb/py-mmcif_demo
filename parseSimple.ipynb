{
 "cells": [
  {
   "cell_type": "markdown",
   "id": "2ef63a84",
   "metadata": {},
   "source": [
    "Import"
   ]
  },
  {
   "cell_type": "code",
   "execution_count": 28,
   "id": "b4158ae0",
   "metadata": {},
   "outputs": [],
   "source": [
    "import os\n",
    "import urllib.request  #for file download\n",
    "from mmcif.io.IoAdapterCore import IoAdapterCore   #File IO class, read and write mmcif file"
   ]
  },
  {
   "cell_type": "markdown",
   "id": "d25f829b",
   "metadata": {},
   "source": [
    "Download File"
   ]
  },
  {
   "cell_type": "code",
   "execution_count": 29,
   "id": "c0509660",
   "metadata": {},
   "outputs": [
    {
     "data": {
      "text/plain": [
       "('/tmp/2hyv.cif', <http.client.HTTPMessage at 0x7f9f30ab1760>)"
      ]
     },
     "execution_count": 29,
     "metadata": {},
     "output_type": "execute_result"
    }
   ],
   "source": [
    "url_2hyv = \"https://files.rcsb.org/download/2HYV.cif\"\n",
    "filepath_local = os.path.join(\"/tmp\", \"2hyv.cif\")\n",
    "urllib.request.urlretrieve(url_2hyv, filepath_local)"
   ]
  },
  {
   "cell_type": "markdown",
   "id": "d0685e0a",
   "metadata": {},
   "source": [
    "Read file, generate list of data containers"
   ]
  },
  {
   "cell_type": "code",
   "execution_count": 30,
   "id": "1e9a01fe",
   "metadata": {},
   "outputs": [],
   "source": [
    "io = IoAdapterCore()\n",
    "list_data_container = io.readFile(filepath_local)"
   ]
  },
  {
   "cell_type": "markdown",
   "id": "c96daa1c",
   "metadata": {},
   "source": [
    "Select the 1st data container"
   ]
  },
  {
   "cell_type": "code",
   "execution_count": 31,
   "id": "648b856f",
   "metadata": {},
   "outputs": [],
   "source": [
    "data_container = list_data_container[0]"
   ]
  },
  {
   "cell_type": "markdown",
   "id": "40c60116",
   "metadata": {},
   "source": [
    "Select the entity category from data container"
   ]
  },
  {
   "cell_type": "code",
   "execution_count": 32,
   "id": "858e70a7",
   "metadata": {},
   "outputs": [],
   "source": [
    "entity = data_container.getObj('entity')"
   ]
  },
  {
   "cell_type": "markdown",
   "id": "c5cead89",
   "metadata": {},
   "source": [
    "Review all data in entity as a list of rows"
   ]
  },
  {
   "cell_type": "code",
   "execution_count": 33,
   "id": "6da23fc8",
   "metadata": {},
   "outputs": [
    {
     "data": {
      "text/plain": [
       "[['1', 'polymer', 'man', 'Annexin A2', '35352.344', '1', '?', '?', '?', '?'],\n",
       " ['2',\n",
       "  'branched',\n",
       "  'man',\n",
       "  '4-deoxy-2-O-sulfo-alpha-L-threo-hex-4-enopyranuronic acid-(1-4)-2-deoxy-6-O-sulfo-2-(sulfoamino)-alpha-D-glucopyranose-(1-4)-2-O-sulfo-alpha-L-idopyranuronic acid-(1-4)-2-deoxy-6-O-sulfo-2-(sulfoamino)-alpha-D-glucopyranose-(1-4)-2-O-sulfo-alpha-L-idopyranuronic acid',\n",
       "  '1411.128',\n",
       "  '1',\n",
       "  '?',\n",
       "  '?',\n",
       "  '?',\n",
       "  '?'],\n",
       " ['3', 'non-polymer', 'syn', 'CALCIUM ION', '40.078', '5', '?', '?', '?', '?'],\n",
       " ['4', 'water', 'nat', 'water', '18.015', '518', '?', '?', '?', '?']]"
      ]
     },
     "execution_count": 33,
     "metadata": {},
     "output_type": "execute_result"
    }
   ],
   "source": [
    "entity.data"
   ]
  },
  {
   "cell_type": "markdown",
   "id": "2b78a249",
   "metadata": {},
   "source": [
    "Review 1st row as a dictionary with attr/value pair"
   ]
  },
  {
   "cell_type": "code",
   "execution_count": 34,
   "id": "ffbfedf6",
   "metadata": {},
   "outputs": [
    {
     "data": {
      "text/plain": [
       "{'id': '1',\n",
       " 'type': 'polymer',\n",
       " 'src_method': 'man',\n",
       " 'pdbx_description': 'Annexin A2',\n",
       " 'formula_weight': '35352.344',\n",
       " 'pdbx_number_of_molecules': '1',\n",
       " 'pdbx_ec': '?',\n",
       " 'pdbx_mutation': '?',\n",
       " 'pdbx_fragment': '?',\n",
       " 'details': '?'}"
      ]
     },
     "execution_count": 34,
     "metadata": {},
     "output_type": "execute_result"
    }
   ],
   "source": [
    "entity.getRowAttributeDict(0)"
   ]
  },
  {
   "cell_type": "markdown",
   "id": "a062fff6",
   "metadata": {},
   "source": [
    "Review value of an attr by index, 0 means first value"
   ]
  },
  {
   "cell_type": "code",
   "execution_count": 35,
   "id": "12a6b7dc",
   "metadata": {},
   "outputs": [
    {
     "data": {
      "text/plain": [
       "'Annexin A2'"
      ]
     },
     "execution_count": 35,
     "metadata": {},
     "output_type": "execute_result"
    }
   ],
   "source": [
    "entity.getValue(\"pdbx_description\", 0)"
   ]
  },
  {
   "cell_type": "markdown",
   "id": "3d779044",
   "metadata": {},
   "source": [
    "Parse sequence from entity_poly category"
   ]
  },
  {
   "cell_type": "code",
   "execution_count": 36,
   "id": "e72202ee",
   "metadata": {},
   "outputs": [
    {
     "data": {
      "text/plain": [
       "'NFDAERDALNIETAIKTKGVDEVTIVNILTNRSNAQRQDIAFAYQRRTKKELASALKSALSGHLETVILGLLKTPAQYDA\\nSELKASMKGLGTDEDSLIEIICSRTNQELQEINRVYKEMYKTDLEKDIISDTSGDFRKLMVALAKGRRAEDGSVIDYELI\\nDQDARDLYDAGVKRKGTDVPKWISIMTERSVPHLQKVFDRYKSYSPYDMLESIRKEVKGDLENAFLNLVQCIQNKPLYFA\\nDRLYDSMKGKGTRDKVLIRIMVSRSEVDMLKIRSEFKRKYGKSLYYYIQQDTKGDYQKALLYLCGGDD'"
      ]
     },
     "execution_count": 36,
     "metadata": {},
     "output_type": "execute_result"
    }
   ],
   "source": [
    "entity_poly = data_container.getObj('entity_poly')\n",
    "entity_poly.getValue(\"pdbx_seq_one_letter_code\", 0)"
   ]
  }
 ],
 "metadata": {
  "kernelspec": {
   "display_name": "Python 3 (ipykernel)",
   "language": "python",
   "name": "python3"
  },
  "language_info": {
   "codemirror_mode": {
    "name": "ipython",
    "version": 3
   },
   "file_extension": ".py",
   "mimetype": "text/x-python",
   "name": "python",
   "nbconvert_exporter": "python",
   "pygments_lexer": "ipython3",
   "version": "3.9.7"
  }
 },
 "nbformat": 4,
 "nbformat_minor": 5
}
